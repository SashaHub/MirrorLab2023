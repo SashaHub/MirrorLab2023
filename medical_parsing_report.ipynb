{
  "nbformat": 4,
  "nbformat_minor": 0,
  "metadata": {
    "colab": {
      "provenance": [],
      "collapsed_sections": [
        "qyAby4DQc2VO",
        "TJEG9BhabF3V"
      ],
      "toc_visible": true,
      "mount_file_id": "1lRznfUbuickjInO0FqLFkoBL0PPg8dkN",
      "authorship_tag": "ABX9TyMmP4DecgGERTtIw+hvBz4m"
    },
    "kernelspec": {
      "name": "python3",
      "display_name": "Python 3"
    },
    "language_info": {
      "name": "python"
    }
  },
  "cells": [
    {
      "cell_type": "markdown",
      "source": [
        "# Установка библиотек"
      ],
      "metadata": {
        "id": "qyAby4DQc2VO"
      }
    },
    {
      "cell_type": "code",
      "source": [
        "!pip install pymorphy2"
      ],
      "metadata": {
        "colab": {
          "base_uri": "https://localhost:8080/"
        },
        "id": "Iedge-npc5QV",
        "outputId": "3d81233e-9230-4ec8-83d5-dc771f7b7648"
      },
      "execution_count": 2,
      "outputs": [
        {
          "output_type": "stream",
          "name": "stdout",
          "text": [
            "Requirement already satisfied: pymorphy2 in /usr/local/lib/python3.10/dist-packages (0.9.1)\n",
            "Requirement already satisfied: dawg-python>=0.7.1 in /usr/local/lib/python3.10/dist-packages (from pymorphy2) (0.7.2)\n",
            "Requirement already satisfied: pymorphy2-dicts-ru<3.0,>=2.4 in /usr/local/lib/python3.10/dist-packages (from pymorphy2) (2.4.417127.4579844)\n",
            "Requirement already satisfied: docopt>=0.6 in /usr/local/lib/python3.10/dist-packages (from pymorphy2) (0.6.2)\n"
          ]
        }
      ]
    },
    {
      "cell_type": "markdown",
      "source": [
        "# Парсинг текста"
      ],
      "metadata": {
        "id": "TJEG9BhabF3V"
      }
    },
    {
      "cell_type": "code",
      "execution_count": 3,
      "metadata": {
        "id": "xsVSpb_eK292"
      },
      "outputs": [],
      "source": [
        "# Парсинг текста\n",
        "\n",
        "import re\n",
        "import os\n",
        "import pandas as pd\n",
        "\n",
        "# Функция для извлечения данных из стандартных секций\n",
        "def extract_sections(content, headers):\n",
        "    sections = {}\n",
        "    for i in range(len(headers)):\n",
        "        header = headers[i]\n",
        "        if i < len(headers) - 1:\n",
        "            next_header = headers[i + 1]\n",
        "            pattern = r'{}(.*?)(?={})'.format(re.escape(header), re.escape(next_header))\n",
        "        else:\n",
        "            pattern = r'{}(.*)'.format(re.escape(header))\n",
        "        match = re.search(pattern, content, flags=re.DOTALL)\n",
        "        if match:\n",
        "            sections[header] = match.group(1).strip()\n",
        "    return sections\n",
        "\n",
        "# Обновленная функция для извлечения значений из таблицы\n",
        "def extract_table_content(xml_text):\n",
        "    # Извлечение строк таблицы\n",
        "    row_pattern = r'<tr>(.*?)</tr>'\n",
        "    rows = re.findall(row_pattern, xml_text, re.DOTALL)\n",
        "\n",
        "    table_info = \"\"\n",
        "    for row in rows:\n",
        "        # Извлечение ячеек таблицы\n",
        "        cell_pattern = r'<t[hd][^>]*>(?:<content[^>]*>)?(.*?)(?:</content>)?</t[hd]>'\n",
        "        cells = re.findall(cell_pattern, row, re.DOTALL)\n",
        "        # Очистка содержимого ячеек от тегов и пробелов\n",
        "        cleaned_cells = [re.sub(r'<[^>]+>', '', cell).strip() for cell in cells]\n",
        "        # Пропускаем строки, где ячеек меньше 2 (заголовки или разделители)\n",
        "        if len(cleaned_cells) >= 2:\n",
        "            table_info += ', '.join(cleaned_cells) + '\\n'\n",
        "    return table_info\n",
        "\n",
        "# Функция для извлечения значений из административных полей\n",
        "def extract_admin_info(xml_text):\n",
        "    gender_pattern = r'<administrativeGenderCode[^>]*displayName=\"([^\"]+)\"'\n",
        "    gender_match = re.search(gender_pattern, xml_text)\n",
        "\n",
        "    admin_info = \"\"\n",
        "    if gender_match:\n",
        "        gender = gender_match.group(1)\n",
        "        admin_info += f\"Пол: {gender}\\n\"\n",
        "\n",
        "    return admin_info\n",
        "\n",
        "# Функция для удаления ненужных тегов и HTML-сущностей\n",
        "def clean_text(text):\n",
        "    # Удаляем теги <title>, <text>, и подобные\n",
        "    text = re.sub(r'<title>|</title>|<text>|</text>', '', text, flags=re.DOTALL)\n",
        "\n",
        "    # Заменяем HTML сущности\n",
        "    text = re.sub(r'&amp;', '&', text)\n",
        "    text = re.sub(r'&quot;', '\"', text)\n",
        "    text = re.sub(r'&lt;', '<', text)\n",
        "    text = re.sub(r'&gt;', '>', text)\n",
        "\n",
        "    # Удаляем любые оставшиеся HTML теги\n",
        "    text = re.sub(r'<[^>]+>', '', text)\n",
        "\n",
        "    # Очищаем лишние пробелы и пустые строки\n",
        "    text = re.sub(r'\\s+', ' ', text).strip()\n",
        "\n",
        "    return text\n",
        "\n",
        "# Основная функция для извлечения информации из медицинских карт\n",
        "def extract_medical_info(xml_text):\n",
        "    # Извлекаем содержимое между тегами <value>...</value>\n",
        "    pattern = r'<value[^>]*>(.*?)</value>'\n",
        "    matches = re.findall(pattern, xml_text, re.DOTALL)\n",
        "\n",
        "    medical_info = \"\"\n",
        "\n",
        "    # Определяем важные разделы\n",
        "    headers = [\n",
        "        'Возраст (дата рождения):',\n",
        "        'Дата поступления:',\n",
        "        'Этап медицинской реабилитации:',\n",
        "        'Жалобы',\n",
        "        'Анамнез заболевания',\n",
        "        'Объективный статус:',\n",
        "        'Результаты специальных методов исследования:',\n",
        "        'Клинический диагноз:',\n",
        "        'Оценка реабилитационного статуса пациента:',\n",
        "        'Шкалы оценки',\n",
        "        'Факторы, ограничивающие проведение реабилитационных мероприятий:',\n",
        "        'Реабилитационный потенциал:',\n",
        "    ]\n",
        "\n",
        "    # Извлечение информации по стандартным секциям\n",
        "    for match in matches:\n",
        "        content = match\n",
        "\n",
        "        # Удаляем раздел \"Индивидуальная программа реабилитации\" и все, что после него\n",
        "        content = re.sub(r'Индивидуальная программа реабилитации:.*', '', content, flags=re.DOTALL)\n",
        "\n",
        "        # Извлекаем необходимые разделы\n",
        "        sections = extract_sections(content, headers)\n",
        "\n",
        "        # Собираем медицинскую информацию из извлеченных разделов\n",
        "        for header in headers:\n",
        "            if header in sections:\n",
        "                medical_info += header + '\\n' + sections[header].strip() + '\\n\\n'\n",
        "\n",
        "    # Извлекаем данные из таблиц\n",
        "    table_info = extract_table_content(xml_text)\n",
        "    if table_info:\n",
        "        medical_info += f\"Табличные данные:\\n{table_info}\\n\"\n",
        "\n",
        "    # Извлекаем административные данные, такие как пол пациента\n",
        "    admin_info = extract_admin_info(xml_text)\n",
        "    if admin_info:\n",
        "        medical_info += f\"Административные данные:\\n{admin_info}\\n\"\n",
        "\n",
        "    # Удаляем дубликаты строк в результате\n",
        "    medical_info = \"\\n\".join(dict.fromkeys(medical_info.splitlines()))\n",
        "\n",
        "    # Очищаем текст от ненужных тегов и сущностей\n",
        "    medical_info = clean_text(medical_info)\n",
        "\n",
        "    return medical_info"
      ]
    },
    {
      "cell_type": "code",
      "source": [
        "# Укажите путь к директории\n",
        "directory = '/content/drive/MyDrive/DocsNew3'\n",
        "\n",
        "# Список для хранения результатов по всем файлам\n",
        "all_medical_info = []\n",
        "\n",
        "# Проходим по всем XML-файлам в директории\n",
        "for filename in os.listdir(directory):\n",
        "    if filename.endswith('.xml'):\n",
        "        file_path = os.path.join(directory, filename)\n",
        "        with open(file_path, 'r', encoding='utf-8') as f:\n",
        "            xml_text = f.read()\n",
        "\n",
        "        medical_info = extract_medical_info(xml_text)\n",
        "        all_medical_info.append({'id': filename, 'text': medical_info})\n",
        "\n",
        "# Создаем DataFrame из списка словарей\n",
        "df = pd.DataFrame(all_medical_info)"
      ],
      "metadata": {
        "id": "OqRQoqCoLZmK"
      },
      "execution_count": 4,
      "outputs": []
    },
    {
      "cell_type": "code",
      "source": [
        "print(df['text'][0])"
      ],
      "metadata": {
        "colab": {
          "base_uri": "https://localhost:8080/"
        },
        "id": "51ntLCvmLru1",
        "outputId": "00ec92c4-f1df-4df0-e3b1-a2b0573a6d37"
      },
      "execution_count": 5,
      "outputs": [
        {
          "output_type": "stream",
          "name": "stdout",
          "text": [
            "Табличные данные: Показатель, Значение / чувствительность (для бак.исследований), Единицы измерения, Референтный диапазон, Комментарий, Оборудование, Дата, Исполнитель Нейтрофилы, абсолютное количество в крови методом автоматизированного подсчёта, 5.18, 10^9/л, 2 - 5.8 10^9/л, Sysmex4000_1, 18.08.2023 10:10, Биолог К Л.В. Нейтрофилы, относительное количество в крови методом автоматизированного подсчёта, 62, %, 47 - 76 %, , 18.08.2023 10:10, Биолог К Л.В. Лимфоциты, абсолютное количество в крови методом автоматизированного подсчёта, 2.13, 10^9/л, 1.2 - 3 10^9/л, , 18.08.2023 10:10, Биолог К Л.В. Лейкоциты в крови, количество, скорректированное на количество ядросодержащих эритроцитов, методом автоматизированного подсчёта, 8.38, 10^9/л, 4.5 - 9 10^9/л, Sysmex4000_1, 18.08.2023 10:10, Биолог К Л.В. Лимфоциты, относительное количество в крови методом автоматизированного подсчёта, 25, %, 19 - 45 %, , 18.08.2023 10:10, Биолог К Л.В. Моноциты, абсолютное количество в крови методом автоматизированного подсчёта, 0.84, 10^9/л, 0.1 - 0.7 10^9/л, Патологический (вне референсного диапазона), , 18.08.2023 10:10, Биолог К Л.В. Моноциты, относительное количество в крови методом автоматизированного подсчёта, 10, %, 3 - 10 %, , 18.08.2023 10:10, Биолог К Л.В. Эритроциты, количество в крови методом автоматизированного подсчёта, 4.84, 10^12/л, 3.7 - 5.2 10^12/л, Sysmex4000_1, 18.08.2023 10:10, Биолог К Л.В. Эозинофилы, абсолютное количество в крови методом автоматизированного подсчёта, 0.19, 10^9/л, 0 - 0.3 10^9/л, , 18.08.2023 10:10, Биолог К Л.В. Гемоглобин общий, массовая концентрация в крови, 141, г/л, 120 - 160 г/л, Sysmex4000_1, 18.08.2023 10:10, Биолог К Л.В. Эозинофилы, относительное количество в крови методом автоматизированного подсчёта, 2, %, 1 - 5 %, , 18.08.2023 10:10, Биолог К Л.В. Гематокрит крови методом автоматизированного подсчёта, 41.8, %, 36 - 46 %, Sysmex4000_1, 18.08.2023 10:10, Биолог К Л.В. Средний объем эритроцита в крови методом автоматизированного подсчёта, 86.4, фл, 81 - 99 фл, Sysmex4000_1, 18.08.2023 10:10, Биолог К Л.В. Базофилы, абсолютное количество в крови методом автоматизированного подсчёта, 0.04, 10^9/л, 0 - 0.2 10^9/л, , 18.08.2023 10:10, Биолог К Л.В. Базофилы, относительное количество в крови методом автоматизированного подсчёта, 0, %, 0 - 1 %, , 18.08.2023 10:10, Биолог К Л.В. Среднее содержание гемоглобина в эритроците в крови методом автоматизированного подсчёта, 29.1, пг, 27 - 35 пг, Sysmex4000_1, 18.08.2023 10:10, Биолог К Л.В. Средняя концентрация гемоглобина в эритроците в крови методом автоматизированного подсчёта, 337, г/л, 324 - 370 г/л, Sysmex4000_1, 18.08.2023 10:10, Биолог К Л.В. !!!!!!!!!!!!!распределения эритроцитов по объему, коэффициент вариации в крови методом автоматизированного подсчёта, 14.3, %, 11.5 - 14.5 %, Sysmex4000_1, 18.08.2023 10:10, Биолог К Л.В. Тромбоциты в крови методом автоматизированного подсчёта, 210, 10^9/л, 142 - 400 10^9/л, Sysmex4000_1, 18.08.2023 10:10, Биолог К Л.В. Средний объём тромбоцитов в крови методом автоматизированного подсчёта, 10, фл, 7.4 - 10.4 фл, , 18.08.2023 10:10, Биолог К Л.В. Тромбоцитокрит крови, 0.23, %, 0.15 - 4 %, Sysmex4000_1, 18.08.2023 10:10, Биолог К Л.В. !!!!!!!!!!!!!распределения тромбоцитов по объему в крови, 12.9, фл, 10 - 20 фл, Sysmex4000_1, 18.08.2023 10:10, Биолог К Л.В. Скорость оседания эритроцитов по Панченкову, 20, мм/ч, 2 - 20 мм/ч, , 18.08.2023 10:10, Биолог К Л.В. Нейтрофилы палочкоядерные, относительное количество в крови методом ручного подсчёта, 1, %, 1 - 6 %, , 18.08.2023 10:10, Биолог К Л.В. Дата, Услуга, Код 18.08.2023, Общий (клинический) анализ крови развернутый, B03.016.003 Административные данные: Пол: Женский\n"
          ]
        }
      ]
    },
    {
      "cell_type": "markdown",
      "source": [
        "# Дополнительная обработка и удаление ненужной информации"
      ],
      "metadata": {
        "id": "lgA_P197bMAI"
      }
    },
    {
      "cell_type": "code",
      "source": [
        "# Дополнительная обработка и удаление ненужной информации\n",
        "\n",
        "# Импорт необходимых библиотек\n",
        "import nltk\n",
        "from collections import Counter\n",
        "\n",
        "# Если необходимо, скачиваем ресурсы NLTK\n",
        "nltk.download('punkt')\n",
        "\n",
        "# Функция обезличивания текста\n",
        "def anonymize_text(text):\n",
        "    # Замена персональных данных на placeholders\n",
        "    text = re.sub(r'\\bФ\\.И\\.О\\.\\s*[:\\-]*\\s*([\\w\\s\\.]+)', 'ФИО пациента', text)\n",
        "    text = re.sub(r'\\bНомер истории болезни\\s*[:\\-]*\\s*([\\w\\d]+)', 'Номер истории болезни', text)\n",
        "    text = re.sub(r'\\bАдрес\\s*[:\\-]*\\s*([\\w\\s\\.\\,]+)', 'Адрес пациента', text)\n",
        "    text = re.sub(r'\\bДата рождения\\s*[:\\-]*\\s*([\\d\\.]+)', 'Дата рождения пациента', text)\n",
        "    text = re.sub(r'!\\s*!+', '', text)  # Удаление лишних восклицательных знаков\n",
        "    return text\n",
        "\n",
        "# Функция удаления повторяющейся информации\n",
        "def remove_repetitive_info(text):\n",
        "    # Разбиваем текст на строки\n",
        "    lines = text.split('\\n')\n",
        "    seen = set()\n",
        "    result = []\n",
        "\n",
        "    # Ключевые слова, по которым мы будем определять важные строки\n",
        "    important_keywords = ['анализ', 'результаты', 'крови', 'биохимия', 'общий анализ', 'клинический анализ', 'гемоглобин', 'лейкоциты']\n",
        "\n",
        "    for line in lines:\n",
        "        # Если строка содержит важные ключевые слова, всегда сохраняем её\n",
        "        if any(keyword in line.lower() for keyword in important_keywords):\n",
        "            result.append(line)\n",
        "            continue\n",
        "\n",
        "        # Если строка не встречалась ранее, добавляем её\n",
        "        if line not in seen:\n",
        "            result.append(line)\n",
        "            seen.add(line)\n",
        "        else:\n",
        "            # Иначе пропускаем повторяющуюся строку\n",
        "            pass  # Можно добавить логирование при необходимости\n",
        "\n",
        "    # Объединяем обратно в текст\n",
        "    return '\\n'.join(result)\n",
        "\n",
        "# Функция очистки текста от ненужных символов и пробелов\n",
        "def clean_text(text):\n",
        "    # Удаляем специфические ненужные символы, не затрагивая цифры и знаки, используемые в анализах\n",
        "    text = re.sub(r'[^\\w\\s\\.\\,\\:\\;\\-\\^\\%\\(\\)\\/\\+\\=]', ' ', text)\n",
        "    # Удаляем лишние пробелы\n",
        "    text = re.sub(r'\\s+', ' ', text)\n",
        "    return text.strip()"
      ],
      "metadata": {
        "id": "VP7GuXRZRxLS",
        "colab": {
          "base_uri": "https://localhost:8080/"
        },
        "outputId": "8e0b6eac-cdaa-43ee-f8f4-62553c658275"
      },
      "execution_count": 6,
      "outputs": [
        {
          "output_type": "stream",
          "name": "stderr",
          "text": [
            "[nltk_data] Downloading package punkt to /root/nltk_data...\n",
            "[nltk_data]   Unzipping tokenizers/punkt.zip.\n"
          ]
        }
      ]
    },
    {
      "cell_type": "code",
      "source": [
        "new_text = []\n",
        "\n",
        "# Проходим по всем тестам в DataFrame\n",
        "for text in df['text'].values:\n",
        "  text = anonymize_text(text)\n",
        "  text = remove_repetitive_info(text)\n",
        "  text = clean_text(text)\n",
        "  new_text.append(text)\n",
        "\n",
        "#Создаем новое поле с дополнительно обработанным текстом\n",
        "df['new_text'] = new_text"
      ],
      "metadata": {
        "id": "r4sy6NnMYMK6"
      },
      "execution_count": 7,
      "outputs": []
    },
    {
      "cell_type": "code",
      "source": [
        "# Вывод обработанного текста\n",
        "print(df['new_text'][0])"
      ],
      "metadata": {
        "colab": {
          "base_uri": "https://localhost:8080/"
        },
        "id": "coRtJUvuYJEa",
        "outputId": "1ee2d494-71ec-46c3-9928-a206bcef43e6"
      },
      "execution_count": 8,
      "outputs": [
        {
          "output_type": "stream",
          "name": "stdout",
          "text": [
            "Табличные данные: Показатель, Значение / чувствительность (для бак.исследований), Единицы измерения, Референтный диапазон, Комментарий, Оборудование, Дата, Исполнитель Нейтрофилы, абсолютное количество в крови методом автоматизированного подсчёта, 5.18, 10^9/л, 2 - 5.8 10^9/л, Sysmex4000_1, 18.08.2023 10:10, Биолог К Л.В. Нейтрофилы, относительное количество в крови методом автоматизированного подсчёта, 62, %, 47 - 76 %, , 18.08.2023 10:10, Биолог К Л.В. Лимфоциты, абсолютное количество в крови методом автоматизированного подсчёта, 2.13, 10^9/л, 1.2 - 3 10^9/л, , 18.08.2023 10:10, Биолог К Л.В. Лейкоциты в крови, количество, скорректированное на количество ядросодержащих эритроцитов, методом автоматизированного подсчёта, 8.38, 10^9/л, 4.5 - 9 10^9/л, Sysmex4000_1, 18.08.2023 10:10, Биолог К Л.В. Лимфоциты, относительное количество в крови методом автоматизированного подсчёта, 25, %, 19 - 45 %, , 18.08.2023 10:10, Биолог К Л.В. Моноциты, абсолютное количество в крови методом автоматизированного подсчёта, 0.84, 10^9/л, 0.1 - 0.7 10^9/л, Патологический (вне референсного диапазона), , 18.08.2023 10:10, Биолог К Л.В. Моноциты, относительное количество в крови методом автоматизированного подсчёта, 10, %, 3 - 10 %, , 18.08.2023 10:10, Биолог К Л.В. Эритроциты, количество в крови методом автоматизированного подсчёта, 4.84, 10^12/л, 3.7 - 5.2 10^12/л, Sysmex4000_1, 18.08.2023 10:10, Биолог К Л.В. Эозинофилы, абсолютное количество в крови методом автоматизированного подсчёта, 0.19, 10^9/л, 0 - 0.3 10^9/л, , 18.08.2023 10:10, Биолог К Л.В. Гемоглобин общий, массовая концентрация в крови, 141, г/л, 120 - 160 г/л, Sysmex4000_1, 18.08.2023 10:10, Биолог К Л.В. Эозинофилы, относительное количество в крови методом автоматизированного подсчёта, 2, %, 1 - 5 %, , 18.08.2023 10:10, Биолог К Л.В. Гематокрит крови методом автоматизированного подсчёта, 41.8, %, 36 - 46 %, Sysmex4000_1, 18.08.2023 10:10, Биолог К Л.В. Средний объем эритроцита в крови методом автоматизированного подсчёта, 86.4, фл, 81 - 99 фл, Sysmex4000_1, 18.08.2023 10:10, Биолог К Л.В. Базофилы, абсолютное количество в крови методом автоматизированного подсчёта, 0.04, 10^9/л, 0 - 0.2 10^9/л, , 18.08.2023 10:10, Биолог К Л.В. Базофилы, относительное количество в крови методом автоматизированного подсчёта, 0, %, 0 - 1 %, , 18.08.2023 10:10, Биолог К Л.В. Среднее содержание гемоглобина в эритроците в крови методом автоматизированного подсчёта, 29.1, пг, 27 - 35 пг, Sysmex4000_1, 18.08.2023 10:10, Биолог К Л.В. Средняя концентрация гемоглобина в эритроците в крови методом автоматизированного подсчёта, 337, г/л, 324 - 370 г/л, Sysmex4000_1, 18.08.2023 10:10, Биолог К Л.В. распределения эритроцитов по объему, коэффициент вариации в крови методом автоматизированного подсчёта, 14.3, %, 11.5 - 14.5 %, Sysmex4000_1, 18.08.2023 10:10, Биолог К Л.В. Тромбоциты в крови методом автоматизированного подсчёта, 210, 10^9/л, 142 - 400 10^9/л, Sysmex4000_1, 18.08.2023 10:10, Биолог К Л.В. Средний объём тромбоцитов в крови методом автоматизированного подсчёта, 10, фл, 7.4 - 10.4 фл, , 18.08.2023 10:10, Биолог К Л.В. Тромбоцитокрит крови, 0.23, %, 0.15 - 4 %, Sysmex4000_1, 18.08.2023 10:10, Биолог К Л.В. распределения тромбоцитов по объему в крови, 12.9, фл, 10 - 20 фл, Sysmex4000_1, 18.08.2023 10:10, Биолог К Л.В. Скорость оседания эритроцитов по Панченкову, 20, мм/ч, 2 - 20 мм/ч, , 18.08.2023 10:10, Биолог К Л.В. Нейтрофилы палочкоядерные, относительное количество в крови методом ручного подсчёта, 1, %, 1 - 6 %, , 18.08.2023 10:10, Биолог К Л.В. Дата, Услуга, Код 18.08.2023, Общий (клинический) анализ крови развернутый, B03.016.003 Административные данные: Пол: Женский\n"
          ]
        }
      ]
    },
    {
      "cell_type": "markdown",
      "source": [
        "# NLP обработка"
      ],
      "metadata": {
        "id": "7IkL_-KncpMq"
      }
    },
    {
      "cell_type": "code",
      "source": [
        "# Импорт необходимых библиотек\n",
        "import pandas as pd\n",
        "import nltk\n",
        "import pymorphy2\n",
        "from nltk.corpus import stopwords\n",
        "from nltk.tokenize import word_tokenize\n",
        "nltk.download('punkt')\n",
        "nltk.download('stopwords')\n",
        "\n",
        "# Инициализация инструментов\n",
        "morph = pymorphy2.MorphAnalyzer()\n",
        "stop_words = set(stopwords.words('russian'))\n",
        "\n",
        "# Функция для подготовки текста для BERT\n",
        "def prepare_for_bert(df, text_column):\n",
        "    \"\"\"\n",
        "    Функция принимает DataFrame и название столбца с текстом.\n",
        "    Возвращает DataFrame с новым столбцом 'bert_text' для ввода в модель BERT.\n",
        "    \"\"\"\n",
        "    # Для BERT минимальная предобработка: удаление лишних пробелов\n",
        "    df['bert_text'] = df[text_column].apply(lambda x: ' '.join(x.split()))\n",
        "    return df[['id', 'bert_text']]\n",
        "\n",
        "# Функция для подготовки текста для других моделей\n",
        "def prepare_for_other_models(df, text_column):\n",
        "    \"\"\"\n",
        "    Функция принимает DataFrame и название столбца с текстом.\n",
        "    Возвращает DataFrame с новым столбцом 'processed_text' после NLP обработки.\n",
        "    \"\"\"\n",
        "    # Функция для токенизации, лемматизации и удаления стоп-слов\n",
        "    def preprocess_text(text):\n",
        "        # Токенизация\n",
        "        tokens = word_tokenize(text, language='russian')\n",
        "        # Приведение к нижнему регистру и удаление неалфавитных символов\n",
        "        tokens = [token.lower() for token in tokens if token.isalpha()]\n",
        "        # Удаление стоп-слов и лемматизация\n",
        "        tokens = [morph.normal_forms(token)[0] for token in tokens if token not in stop_words]\n",
        "        # Возвращаем обработанный текст\n",
        "        return ' '.join(tokens)\n",
        "\n",
        "    df['processed_text'] = df[text_column].apply(preprocess_text)\n",
        "    return df[['id', 'processed_text']]\n",
        "\n",
        "# Дополнительно: Функция для вычисления TF-IDF\n",
        "from sklearn.feature_extraction.text import TfidfVectorizer\n",
        "\n",
        "def compute_tfidf(df, text_column):\n",
        "    \"\"\"\n",
        "    Функция принимает DataFrame и название столбца с обработанным текстом.\n",
        "    Возвращает матрицу TF-IDF и объект Vectorizer.\n",
        "    \"\"\"\n",
        "    vectorizer = TfidfVectorizer()\n",
        "    tfidf_matrix = vectorizer.fit_transform(df[text_column])\n",
        "    return tfidf_matrix, vectorizer\n",
        "\n",
        "# Дополнительно: Функция для обучения модели Word2Vec\n",
        "from gensim.models import Word2Vec\n",
        "\n",
        "def train_word2vec(df, text_column):\n",
        "    \"\"\"\n",
        "    Функция принимает DataFrame и название столбца с обработанным текстом.\n",
        "    Возвращает обученную модель Word2Vec.\n",
        "    \"\"\"\n",
        "    # Преобразуем тексты в списки токенов\n",
        "    tokenized_texts = df[text_column].apply(lambda x: x.split())\n",
        "    # Обучаем модель Word2Vec\n",
        "    w2v_model = Word2Vec(sentences=tokenized_texts, vector_size=100, window=5, min_count=1, workers=4)\n",
        "    return w2v_model"
      ],
      "metadata": {
        "colab": {
          "base_uri": "https://localhost:8080/"
        },
        "id": "3DgpCyShZUVA",
        "outputId": "c6588543-4008-4ffc-f609-ef6731de244b"
      },
      "execution_count": 9,
      "outputs": [
        {
          "output_type": "stream",
          "name": "stderr",
          "text": [
            "[nltk_data] Downloading package punkt to /root/nltk_data...\n",
            "[nltk_data]   Package punkt is already up-to-date!\n",
            "[nltk_data] Downloading package stopwords to /root/nltk_data...\n",
            "[nltk_data]   Unzipping corpora/stopwords.zip.\n"
          ]
        }
      ]
    },
    {
      "cell_type": "code",
      "source": [
        "# Подготовка данных для BERT\n",
        "df_bert = prepare_for_bert(df.copy(), 'new_text')\n",
        "print(\"Данные для BERT:\")\n",
        "\n",
        "# Подготовка данных для других моделей\n",
        "df_other = prepare_for_other_models(df.copy(), 'new_text')\n",
        "print(\"\\nДанные для других моделей:\")\n",
        "print(df_other)\n",
        "\n",
        "# Вычисление TF-IDF\n",
        "tfidf_matrix, vectorizer = compute_tfidf(df_other, 'processed_text')\n",
        "print(\"\\nTF-IDF матрица:\")\n",
        "print(tfidf_matrix.toarray())\n",
        "\n",
        "# Обучение модели Word2Vec\n",
        "w2v_model = train_word2vec(df_other, 'processed_text')\n",
        "print(\"\\nПример векторного представления слова 'пациент':\")\n",
        "if 'пациент' in w2v_model.wv:\n",
        "    print(w2v_model.wv['пациент'])\n",
        "else:\n",
        "    print(\"Слово 'пациент' отсутствует в словаре модели Word2Vec.\")"
      ],
      "metadata": {
        "colab": {
          "base_uri": "https://localhost:8080/"
        },
        "id": "HfEooAsRdDeh",
        "outputId": "aba24216-b1c0-425f-ef15-4a0c05c366ed"
      },
      "execution_count": 10,
      "outputs": [
        {
          "output_type": "stream",
          "name": "stdout",
          "text": [
            "Данные для BERT:\n",
            "\n",
            "Данные для других моделей:\n",
            "                                   id  \\\n",
            "0     EMD_LAB_188219728_255580489.xml   \n",
            "1     EMD_LAB_188198466_255586001.xml   \n",
            "2     EMD_LAB_188198466_255587038.xml   \n",
            "3     EMD_LAB_188198466_255587914.xml   \n",
            "4     EMD_LAB_188219617_255578360.xml   \n",
            "...                               ...   \n",
            "4207  EMD_LAB_187249519_255545720.xml   \n",
            "4208  EMD_LAB_187249519_255545678.xml   \n",
            "4209  EMD_LAB_187273537_255558885.xml   \n",
            "4210  EMD_LAB_187277604_255547019.xml   \n",
            "4211  EMD_LAB_187273457_255545101.xml   \n",
            "\n",
            "                                         processed_text  \n",
            "0     табличный дать показатель значение чувствитель...  \n",
            "1     табличный дать показатель значение чувствитель...  \n",
            "2     табличный дать показатель значение чувствитель...  \n",
            "3     табличный дать показатель значение чувствитель...  \n",
            "4     табличный дать показатель значение чувствитель...  \n",
            "...                                                 ...  \n",
            "4207  табличный дать показатель значение чувствитель...  \n",
            "4208  табличный дать показатель значение чувствитель...  \n",
            "4209  табличный дать показатель значение чувствитель...  \n",
            "4210  табличный дать показатель значение чувствитель...  \n",
            "4211  табличный дать показатель значение чувствитель...  \n",
            "\n",
            "[4212 rows x 2 columns]\n",
            "\n",
            "TF-IDF матрица:\n",
            "[[0.         0.         0.         ... 0.03033029 0.         0.        ]\n",
            " [0.         0.         0.         ... 0.         0.49651235 0.        ]\n",
            " [0.         0.         0.         ... 0.         0.         0.        ]\n",
            " ...\n",
            " [0.         0.         0.         ... 0.         0.         0.        ]\n",
            " [0.         0.         0.         ... 0.         0.         0.        ]\n",
            " [0.         0.         0.         ... 0.         0.         0.        ]]\n",
            "\n",
            "Пример векторного представления слова 'пациент':\n",
            "[ 1.0260869   2.4816287   2.2524881  -2.284118    1.3665444   0.5756765\n",
            " -2.1693573   0.21737805  2.50043    -0.61337095 -0.879683    0.8333519\n",
            "  0.7177585  -1.668198   -1.643003    1.1149768  -0.55984133  1.3870536\n",
            " -1.9928116   0.31357357 -1.4508051  -0.6681622  -0.34623906 -0.07672733\n",
            " -1.4564787   1.0076267   0.5959455  -0.32023677  1.485248    3.257231\n",
            "  0.4721685  -1.017198   -0.93179226 -1.2142348   0.5126257  -0.10529153\n",
            "  0.39899173 -0.7488883  -1.4613574  -0.3697405  -1.5663546   0.8565311\n",
            "  0.42702675 -0.9814269   1.9716697   1.525228    0.11596515  1.7877885\n",
            " -0.20120157 -1.1959829  -0.75993145 -3.1437051  -0.6431107  -1.4686117\n",
            " -2.3985393  -0.78290063 -2.951383   -1.2575722  -1.5691003   0.46838152\n",
            "  3.373656    1.5694876  -0.4062484   0.77630657  3.4539726  -1.1914616\n",
            "  0.43057516  0.04674897  0.19761252 -2.9861648   0.31763276  0.64779145\n",
            " -0.72481596  0.07647247 -1.0347216   0.08747367 -0.67452073 -1.5173054\n",
            " -0.7622512  -1.1763613   1.0853457  -1.681953   -1.0928161  -1.2248982\n",
            "  1.9121166   1.0216582   2.4977221   0.4697486  -0.30468106  0.73581094\n",
            "  0.19412936  0.25787592  1.3820728   0.92196035 -1.8736407  -1.2353601\n",
            " -3.2236836   0.02528314  0.48517308  0.14333397]\n"
          ]
        }
      ]
    },
    {
      "cell_type": "markdown",
      "source": [
        "# Получение численных значений анализов"
      ],
      "metadata": {
        "id": "YVsdB3CTfsSj"
      }
    },
    {
      "cell_type": "code",
      "source": [
        "# Получение численных значений анализов\n",
        "\n",
        "import re\n",
        "import pandas as pd\n",
        "import numpy as np\n",
        "\n",
        "# Обновленная функция для извлечения результатов анализов из таблицы\n",
        "def parse_blood_tests(text):\n",
        "    \"\"\"\n",
        "    Функция для парсинга результатов анализов крови из таблицы.\n",
        "\n",
        "    Параметры:\n",
        "    text (str): строка с результатами анализов крови.\n",
        "\n",
        "    Возвращает:\n",
        "    df_results (DataFrame): таблица с названиями анализов и их значениями.\n",
        "    \"\"\"\n",
        "    # Ищем строки с анализами\n",
        "    test_pattern = r'(.*?)\\s*,\\s*(.*?)\\s*,\\s*(.*?)\\s*,\\s*(.*?)\\s*,\\s*(.*?)\\s*,\\s*(.*?)\\s*,\\s*(.*?)\\s*,\\s*(.*?)\\n'\n",
        "    matches = re.findall(test_pattern, text)\n",
        "\n",
        "    results_list = []\n",
        "    for match in matches:\n",
        "        # Извлекаем данные из ячеек\n",
        "        test_name = match[0]\n",
        "        value = match[1]\n",
        "        unit = match[2]\n",
        "        reference = match[3]\n",
        "        comment = match[4]\n",
        "        equipment = match[5]\n",
        "        date = match[6]\n",
        "        performer = match[7]\n",
        "\n",
        "        # Очищаем названия анализов и значения\n",
        "        test_name = test_name.strip()\n",
        "        value = re.sub(r'<[^>]+>', '', value).strip()\n",
        "\n",
        "        results_list.append({'Анализ': test_name, 'Значение': value, 'Единицы': unit})\n",
        "\n",
        "    # Преобразуем в DataFrame\n",
        "    df_results = pd.DataFrame(results_list)\n",
        "    return df_results\n",
        "\n",
        "def process_dataframe(df):\n",
        "    \"\"\"\n",
        "    Функция для обработки DataFrame с полями 'id' и 'text', извлечения результатов анализов и формирования нового DataFrame.\n",
        "\n",
        "    Параметры:\n",
        "    df (DataFrame): исходный DataFrame с полями 'id' и 'text'.\n",
        "\n",
        "    Возвращает:\n",
        "    df_results (DataFrame): результирующий DataFrame, где строки — это id, колонки — признаки, значения — результаты анализов.\n",
        "    \"\"\"\n",
        "    results_list = []\n",
        "    for index, row in df.iterrows():\n",
        "        id_value = row['id']\n",
        "        text = row['text']\n",
        "        # Извлекаем результаты анализов в виде DataFrame\n",
        "        lab_results = parse_blood_tests(text)\n",
        "        lab_results['id'] = id_value  # Добавляем id в DataFrame\n",
        "        results_list.append(lab_results)\n",
        "\n",
        "    # Объединяем список DataFrame-ов в один DataFrame\n",
        "    df_all_results = pd.concat(results_list, ignore_index=True, sort=False)\n",
        "    # Поворачиваем таблицу так, чтобы анализы стали столбцами\n",
        "    df_pivot = df_all_results.pivot(index='id', columns='Анализ', values='Значение')\n",
        "    return df_pivot"
      ],
      "metadata": {
        "id": "ezixbT6yp5wY"
      },
      "execution_count": 11,
      "outputs": []
    },
    {
      "cell_type": "code",
      "source": [
        "df_results = process_dataframe(df)"
      ],
      "metadata": {
        "id": "rauPGNUQf1R9"
      },
      "execution_count": null,
      "outputs": []
    },
    {
      "cell_type": "code",
      "source": [
        "df_results"
      ],
      "metadata": {
        "id": "zqi5VJIDf5te"
      },
      "execution_count": null,
      "outputs": []
    },
    {
      "cell_type": "markdown",
      "source": [
        "# Количество обработанных медкарт"
      ],
      "metadata": {
        "id": "gNG6mgWaczUP"
      }
    },
    {
      "cell_type": "code",
      "source": [
        "print(len(df))"
      ],
      "metadata": {
        "id": "bXhgoj6Ic41O"
      },
      "execution_count": null,
      "outputs": []
    },
    {
      "cell_type": "code",
      "source": [
        "print(len(df_results))"
      ],
      "metadata": {
        "id": "a5KP05HdgSZW"
      },
      "execution_count": null,
      "outputs": []
    }
  ]
}